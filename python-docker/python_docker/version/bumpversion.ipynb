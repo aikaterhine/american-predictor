{
 "cells": [
  {
   "cell_type": "code",
   "execution_count": 1,
   "id": "5c308395",
   "metadata": {},
   "outputs": [
    {
     "name": "stdout",
     "output_type": "stream",
     "text": [
      "/home/catarinapereira/python_docker\n"
     ]
    }
   ],
   "source": [
    "%cd .."
   ]
  },
  {
   "cell_type": "code",
   "execution_count": 2,
   "id": "18556eab",
   "metadata": {},
   "outputs": [
    {
     "name": "stdout",
     "output_type": "stream",
     "text": [
      "Defaulting to user installation because normal site-packages is not writeable\n",
      "Requirement already satisfied: bumpversion in /home/catarinapereira/.local/lib/python3.8/site-packages (0.6.0)\n",
      "Requirement already satisfied: bump2version in /home/catarinapereira/.local/lib/python3.8/site-packages (from bumpversion) (1.0.1)\n",
      "Note: you may need to restart the kernel to use updated packages.\n"
     ]
    }
   ],
   "source": [
    "pip install bumpversion"
   ]
  },
  {
   "cell_type": "code",
   "execution_count": 7,
   "id": "a64188ac",
   "metadata": {},
   "outputs": [],
   "source": [
    "import os\n",
    "\n",
    "def bump_version():\n",
    "    os.system('bumpversion major version/version.bumpversion.cfg')"
   ]
  },
  {
   "cell_type": "code",
   "execution_count": 23,
   "id": "a4b089e7",
   "metadata": {},
   "outputs": [
    {
     "data": {
      "text/plain": [
       "0"
      ]
     },
     "execution_count": 23,
     "metadata": {},
     "output_type": "execute_result"
    }
   ],
   "source": [
    "#os.system('bumpversion --current-version 1.0.0 --new-version 0.0.0 major version/version.bumpversion.cfg')\n",
    "#os.system('bumpversion --current-version 1.2.0 --new-version 1.0.0 minor version/version.bumpversion.cfg')\n",
    "#os.system('bumpversion --current-version 1.2.0 --new-version 1.0.0 patch version/version.bumpversion.cfg')"
   ]
  },
  {
   "cell_type": "code",
   "execution_count": null,
   "id": "cfb48464",
   "metadata": {},
   "outputs": [],
   "source": []
  }
 ],
 "metadata": {
  "kernelspec": {
   "display_name": "Python 3 (ipykernel)",
   "language": "python",
   "name": "python3"
  },
  "language_info": {
   "codemirror_mode": {
    "name": "ipython",
    "version": 3
   },
   "file_extension": ".py",
   "mimetype": "text/x-python",
   "name": "python",
   "nbconvert_exporter": "python",
   "pygments_lexer": "ipython3",
   "version": "3.8.10"
  }
 },
 "nbformat": 4,
 "nbformat_minor": 5
}
